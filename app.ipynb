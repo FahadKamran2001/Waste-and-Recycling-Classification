{
 "cells": [
  {
   "cell_type": "code",
   "execution_count": 6,
   "metadata": {},
   "outputs": [
    {
     "name": "stdout",
     "output_type": "stream",
     "text": [
      " * Serving Flask app '__main__'\n",
      " * Debug mode: off\n"
     ]
    },
    {
     "name": "stderr",
     "output_type": "stream",
     "text": [
      "WARNING: This is a development server. Do not use it in a production deployment. Use a production WSGI server instead.\n",
      " * Running on http://127.0.0.1:5000\n",
      "Press CTRL+C to quit\n",
      "127.0.0.1 - - [03/Dec/2023 21:11:09] \"GET / HTTP/1.1\" 200 -\n",
      "C:\\Users\\FahadKamran\\AppData\\Local\\Temp\\ipykernel_3644\\4014821166.py:49: DeprecationWarning: The binary mode of fromstring is deprecated, as it behaves surprisingly on unicode inputs. Use frombuffer instead\n",
      "  image = cv2.imdecode(np.fromstring(file.read(), np.uint8), cv2.IMREAD_UNCHANGED)\n",
      "127.0.0.1 - - [03/Dec/2023 21:11:36] \"POST / HTTP/1.1\" 200 -\n",
      "C:\\Users\\FahadKamran\\AppData\\Local\\Temp\\ipykernel_3644\\4014821166.py:49: DeprecationWarning: The binary mode of fromstring is deprecated, as it behaves surprisingly on unicode inputs. Use frombuffer instead\n",
      "  image = cv2.imdecode(np.fromstring(file.read(), np.uint8), cv2.IMREAD_UNCHANGED)\n",
      "127.0.0.1 - - [03/Dec/2023 21:11:53] \"POST / HTTP/1.1\" 200 -\n"
     ]
    }
   ],
   "source": [
    "from flask import Flask, render_template, request\n",
    "import pickle\n",
    "import cv2\n",
    "from skimage.transform import resize\n",
    "from skimage.feature import hog\n",
    "import numpy as np\n",
    "import os\n",
    "\n",
    "app = Flask(__name__)\n",
    "\n",
    "# Load the saved SVM model\n",
    "model_filename = 'svm_model.pkl'\n",
    "with open(model_filename, 'rb') as model_file:\n",
    "    loaded_model = pickle.load(model_file)\n",
    "\n",
    "# Function to extract HOG features\n",
    "def extract_hog_features(images, target_size=(128, 128)):\n",
    "    hog_features = []\n",
    "    for image in images:\n",
    "        resized_image = resize(image, target_size, anti_aliasing=True)\n",
    "        features = hog(resized_image, orientations=8, pixels_per_cell=(8, 8), cells_per_block=(1, 1), block_norm='L2-Hys', visualize=False, feature_vector=True)\n",
    "        hog_features.append(features)\n",
    "    return np.vstack(hog_features)\n",
    "\n",
    "# Function to preprocess the uploaded image\n",
    "def preprocess_image(image):\n",
    "    if image is not None:\n",
    "        grayscale_image = cv2.cvtColor(image, cv2.COLOR_BGR2GRAY)\n",
    "        enhanced_image = cv2.equalizeHist(grayscale_image)\n",
    "        return [enhanced_image]\n",
    "    else:\n",
    "        return None\n",
    "\n",
    "@app.route('/', methods=['GET', 'POST'])\n",
    "def upload_file():\n",
    "    if request.method == 'POST':\n",
    "        # Check if the post request has the file part\n",
    "        if 'file' not in request.files:\n",
    "            return render_template('index.html', error='No file part')\n",
    "\n",
    "        file = request.files['file']\n",
    "\n",
    "        # If the user does not select a file, browser submits an empty file without a filename\n",
    "        if file.filename == '':\n",
    "            return render_template('index.html', error='No selected file')\n",
    "\n",
    "        # If the file exists and is allowed, process the image\n",
    "        if file and allowed_file(file.filename):\n",
    "            image = cv2.imdecode(np.fromstring(file.read(), np.uint8), cv2.IMREAD_UNCHANGED)\n",
    "            processed_image = preprocess_image(image)\n",
    "\n",
    "            if processed_image is not None:\n",
    "                # Extract HOG features for the uploaded image\n",
    "                X_uploaded_hog = extract_hog_features(processed_image)\n",
    "\n",
    "                # Prediction on the uploaded image\n",
    "                predicted_label = loaded_model.predict(X_uploaded_hog)[0]\n",
    "\n",
    "                return render_template('index.html', prediction=predicted_label)\n",
    "            else:\n",
    "                return render_template('index.html', error='Failed to process the image')\n",
    "\n",
    "    return render_template('index.html', error=None)\n",
    "\n",
    "# Function to check if the file extension is allowed\n",
    "def allowed_file(filename):\n",
    "    ALLOWED_EXTENSIONS = {'png', 'jpg', 'jpeg', 'gif'}\n",
    "    return '.' in filename and filename.rsplit('.', 1)[1].lower() in ALLOWED_EXTENSIONS\n",
    "\n",
    "if __name__ == '__main__':\n",
    "    app.run(debug=False)\n"
   ]
  }
 ],
 "metadata": {
  "kernelspec": {
   "display_name": "Python 3",
   "language": "python",
   "name": "python3"
  },
  "language_info": {
   "codemirror_mode": {
    "name": "ipython",
    "version": 3
   },
   "file_extension": ".py",
   "mimetype": "text/x-python",
   "name": "python",
   "nbconvert_exporter": "python",
   "pygments_lexer": "ipython3",
   "version": "3.11.6"
  }
 },
 "nbformat": 4,
 "nbformat_minor": 2
}
